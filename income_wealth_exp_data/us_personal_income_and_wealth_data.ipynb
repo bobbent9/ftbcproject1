{
 "cells": [
  {
   "cell_type": "code",
   "execution_count": null,
   "metadata": {},
   "outputs": [],
   "source": [
    "from pathlib import Path\n",
    "import csv\n",
    "import pandas as pd\n",
    "import numpy as np\n",
    "import datetime as dt\n",
    "import hvplot.pandas\n",
    "import matplotlib.pyplot as plt\n",
    "import hvplot.pandas\n",
    "import plotly.express as px\n",
    "import panel as pn\n",
    "\n",
    "%matplotlib inline\n",
    "figsize=(20,10)\n",
    "\n",
    "\n",
    "disposable_csv = Path(\"quarterly_disposable_income_billions.csv\")\n",
    "disposable_income = pd.read_csv(disposable_csv)\n",
    "disposable_income.tail()"
   ]
  },
  {
   "cell_type": "code",
   "execution_count": null,
   "metadata": {},
   "outputs": [],
   "source": [
    "disposable_income['TIME_PERIOD'] = disposable_income['TIME_PERIOD'].str[:-2]"
   ]
  },
  {
   "cell_type": "code",
   "execution_count": null,
   "metadata": {},
   "outputs": [],
   "source": [
    "disposable_income.columns=('Date', 'Disposable Income')\n",
    "disposable_income.tail()"
   ]
  },
  {
   "cell_type": "code",
   "execution_count": null,
   "metadata": {},
   "outputs": [],
   "source": [
    "disposable_income_yearly = disposable_income.groupby('Date').sum()\n",
    "disposable_income_yearly.tail()"
   ]
  },
  {
   "cell_type": "code",
   "execution_count": null,
   "metadata": {},
   "outputs": [],
   "source": [
    "disposable_income_plot = disposable_income_yearly.hvplot(rot=45, width=1250, label=\"Total US Disposable Income in Billions\")\n",
    "disposable_income_plot"
   ]
  },
  {
   "cell_type": "code",
   "execution_count": null,
   "metadata": {},
   "outputs": [],
   "source": [
    "personal_consumption_csv = Path(\"personal_consumption_expenditures_billions.csv\")\n",
    "personal_consumption = pd.read_csv(personal_consumption_csv)\n",
    "personal_consumption.tail()"
   ]
  },
  {
   "cell_type": "code",
   "execution_count": null,
   "metadata": {},
   "outputs": [],
   "source": [
    "personal_consumption.columns=('Date', 'Personal Consumption Expenditures')\n",
    "personal_consumption.tail()"
   ]
  },
  {
   "cell_type": "code",
   "execution_count": null,
   "metadata": {},
   "outputs": [],
   "source": [
    "personal_consumption = personal_consumption.set_index('Date')"
   ]
  },
  {
   "cell_type": "code",
   "execution_count": null,
   "metadata": {},
   "outputs": [],
   "source": [
    "consumption_plot = personal_consumption.hvplot(label='US Total Personal Consumption in Billions')\n",
    "consumption_plot"
   ]
  },
  {
   "cell_type": "code",
   "execution_count": null,
   "metadata": {},
   "outputs": [],
   "source": [
    "net_worth_csv = Path(\"total_net_worth_bottom_50_percent.csv\")\n",
    "net_worth_data = pd.read_csv(net_worth_csv, index_col='DATE', parse_dates=True, infer_datetime_format=True )\n",
    "net_worth_data.head()"
   ]
  },
  {
   "cell_type": "code",
   "execution_count": null,
   "metadata": {},
   "outputs": [],
   "source": [
    "net_worth_yearly = net_worth_data.resample('Y').sum()\n",
    "net_worth_yearly.head()"
   ]
  },
  {
   "cell_type": "code",
   "execution_count": null,
   "metadata": {},
   "outputs": [],
   "source": [
    "net_worth_yearly_plot=net_worth_yearly.hvplot.bar(rot=45, yformatter='%.0f', label='Net Worth for Bottom 50% by Income')\n",
    "net_worth_yearly_plot"
   ]
  },
  {
   "cell_type": "code",
   "execution_count": null,
   "metadata": {},
   "outputs": [],
   "source": [
    "consumer_exp_csv = Path(\"consumer_expenditure_survey.csv\")\n",
    "consumer_exp_data = pd.read_csv(consumer_exp_csv)\n",
    "consumer_exp_data"
   ]
  },
  {
   "cell_type": "code",
   "execution_count": null,
   "metadata": {},
   "outputs": [],
   "source": [
    "consumer_exp_data = consumer_exp_data.dropna()\n",
    "consumer_exp_data = consumer_exp_data.set_index('Item')\n",
    "consumer_exp_data"
   ]
  },
  {
   "cell_type": "code",
   "execution_count": null,
   "metadata": {},
   "outputs": [],
   "source": [
    "expenditures_by_cat = consumer_exp_data.drop(['Number of consumer units (in thousands)', 'Income_before_taxes', 'Average_annual_exp'])"
   ]
  },
  {
   "cell_type": "code",
   "execution_count": null,
   "metadata": {},
   "outputs": [],
   "source": [
    "consumer_exp_bar_plot = expenditures_by_cat['All_consumer_units'].hvplot.bar(x='Item', yformatter='%.0f', label='Yearly Expenditures by Consumer Unit', rot=60, width=1000, height=550)\n",
    "consumer_exp_bar_plot"
   ]
  },
  {
   "cell_type": "code",
   "execution_count": null,
   "metadata": {},
   "outputs": [],
   "source": [
    "expenditures_column = pn.Column(\"## US Expenditures\", consumption_plot, consumer_exp_bar_plot)\n",
    "wealth_and_income_column = pn.Column(\"## Wealth and Disposable Income\", net_worth_yearly_plot, disposable_income_plot)"
   ]
  },
  {
   "cell_type": "code",
   "execution_count": null,
   "metadata": {},
   "outputs": [],
   "source": [
    "wealth_income_exp_dashboard = pn.Tabs(\n",
    "(\"Household Consumption\", expenditures_column),\n",
    "(\"Wealth and Income\", wealth_and_income_column))\n",
    "\n",
    "wealth_income_exp_dashboard"
   ]
  },
  {
   "cell_type": "code",
   "execution_count": null,
   "metadata": {},
   "outputs": [],
   "source": []
  }
 ],
 "metadata": {
  "kernelspec": {
   "display_name": "Python 3",
   "language": "python",
   "name": "python3"
  },
  "language_info": {
   "codemirror_mode": {
    "name": "ipython",
    "version": 3
   },
   "file_extension": ".py",
   "mimetype": "text/x-python",
   "name": "python",
   "nbconvert_exporter": "python",
   "pygments_lexer": "ipython3",
   "version": "3.7.7"
  }
 },
 "nbformat": 4,
 "nbformat_minor": 4
}
